{
  "nbformat": 4,
  "nbformat_minor": 0,
  "metadata": {
    "colab": {
      "name": "1_형태소분석기설치.ipynb",
      "provenance": [],
      "collapsed_sections": [],
      "authorship_tag": "ABX9TyM6ZQhD+Ar7Vq8Qvpd+4rF3",
      "include_colab_link": true
    },
    "kernelspec": {
      "name": "python3",
      "display_name": "Python 3"
    },
    "language_info": {
      "name": "python"
    }
  },
  "cells": [
    {
      "cell_type": "markdown",
      "metadata": {
        "id": "view-in-github",
        "colab_type": "text"
      },
      "source": [
        "<a href=\"https://colab.research.google.com/github/heoni00/BigLeader_AI/blob/main/1_%ED%98%95%ED%83%9C%EC%86%8C%EB%B6%84%EC%84%9D%EA%B8%B0%EC%84%A4%EC%B9%98.ipynb\" target=\"_parent\"><img src=\"https://colab.research.google.com/assets/colab-badge.svg\" alt=\"Open In Colab\"/></a>"
      ]
    },
    {
      "cell_type": "code",
      "metadata": {
        "id": "Z4msmAW7Ze6g"
      },
      "source": [
        "# 1. OS 업데이트 및 Java 설치 (이건 한번만 설치하면 됨)\n",
        "\n",
        "!apt-get update\n",
        "!apt-get install g++ openjdk-8-jdk"
      ],
      "execution_count": null,
      "outputs": []
    },
    {
      "cell_type": "code",
      "metadata": {
        "colab": {
          "base_uri": "https://localhost:8080/"
        },
        "id": "qgYePWSOZ8o8",
        "outputId": "88abc0e8-9944-4f08-ab42-bd87183b3509"
      },
      "source": [
        "# 2. JPype 설치 \n",
        "!pip install JPype1"
      ],
      "execution_count": null,
      "outputs": [
        {
          "output_type": "stream",
          "text": [
            "Collecting JPype1\n",
            "  Downloading JPype1-1.3.0-cp37-cp37m-manylinux_2_5_x86_64.manylinux1_x86_64.whl (448 kB)\n",
            "\u001b[?25l\r\u001b[K     |▊                               | 10 kB 21.5 MB/s eta 0:00:01\r\u001b[K     |█▌                              | 20 kB 12.4 MB/s eta 0:00:01\r\u001b[K     |██▏                             | 30 kB 10.1 MB/s eta 0:00:01\r\u001b[K     |███                             | 40 kB 9.1 MB/s eta 0:00:01\r\u001b[K     |███▋                            | 51 kB 4.9 MB/s eta 0:00:01\r\u001b[K     |████▍                           | 61 kB 5.3 MB/s eta 0:00:01\r\u001b[K     |█████                           | 71 kB 5.7 MB/s eta 0:00:01\r\u001b[K     |█████▉                          | 81 kB 6.1 MB/s eta 0:00:01\r\u001b[K     |██████▋                         | 92 kB 6.3 MB/s eta 0:00:01\r\u001b[K     |███████▎                        | 102 kB 4.9 MB/s eta 0:00:01\r\u001b[K     |████████                        | 112 kB 4.9 MB/s eta 0:00:01\r\u001b[K     |████████▊                       | 122 kB 4.9 MB/s eta 0:00:01\r\u001b[K     |█████████▌                      | 133 kB 4.9 MB/s eta 0:00:01\r\u001b[K     |██████████▏                     | 143 kB 4.9 MB/s eta 0:00:01\r\u001b[K     |███████████                     | 153 kB 4.9 MB/s eta 0:00:01\r\u001b[K     |███████████▊                    | 163 kB 4.9 MB/s eta 0:00:01\r\u001b[K     |████████████▍                   | 174 kB 4.9 MB/s eta 0:00:01\r\u001b[K     |█████████████▏                  | 184 kB 4.9 MB/s eta 0:00:01\r\u001b[K     |█████████████▉                  | 194 kB 4.9 MB/s eta 0:00:01\r\u001b[K     |██████████████▋                 | 204 kB 4.9 MB/s eta 0:00:01\r\u001b[K     |███████████████▎                | 215 kB 4.9 MB/s eta 0:00:01\r\u001b[K     |████████████████                | 225 kB 4.9 MB/s eta 0:00:01\r\u001b[K     |████████████████▉               | 235 kB 4.9 MB/s eta 0:00:01\r\u001b[K     |█████████████████▌              | 245 kB 4.9 MB/s eta 0:00:01\r\u001b[K     |██████████████████▎             | 256 kB 4.9 MB/s eta 0:00:01\r\u001b[K     |███████████████████             | 266 kB 4.9 MB/s eta 0:00:01\r\u001b[K     |███████████████████▊            | 276 kB 4.9 MB/s eta 0:00:01\r\u001b[K     |████████████████████▍           | 286 kB 4.9 MB/s eta 0:00:01\r\u001b[K     |█████████████████████▏          | 296 kB 4.9 MB/s eta 0:00:01\r\u001b[K     |██████████████████████          | 307 kB 4.9 MB/s eta 0:00:01\r\u001b[K     |██████████████████████▋         | 317 kB 4.9 MB/s eta 0:00:01\r\u001b[K     |███████████████████████▍        | 327 kB 4.9 MB/s eta 0:00:01\r\u001b[K     |████████████████████████        | 337 kB 4.9 MB/s eta 0:00:01\r\u001b[K     |████████████████████████▉       | 348 kB 4.9 MB/s eta 0:00:01\r\u001b[K     |█████████████████████████▌      | 358 kB 4.9 MB/s eta 0:00:01\r\u001b[K     |██████████████████████████▎     | 368 kB 4.9 MB/s eta 0:00:01\r\u001b[K     |███████████████████████████     | 378 kB 4.9 MB/s eta 0:00:01\r\u001b[K     |███████████████████████████▊    | 389 kB 4.9 MB/s eta 0:00:01\r\u001b[K     |████████████████████████████▌   | 399 kB 4.9 MB/s eta 0:00:01\r\u001b[K     |█████████████████████████████▏  | 409 kB 4.9 MB/s eta 0:00:01\r\u001b[K     |██████████████████████████████  | 419 kB 4.9 MB/s eta 0:00:01\r\u001b[K     |██████████████████████████████▋ | 430 kB 4.9 MB/s eta 0:00:01\r\u001b[K     |███████████████████████████████▍| 440 kB 4.9 MB/s eta 0:00:01\r\u001b[K     |████████████████████████████████| 448 kB 4.9 MB/s \n",
            "\u001b[?25hRequirement already satisfied: typing-extensions in /usr/local/lib/python3.7/dist-packages (from JPype1) (3.7.4.3)\n",
            "Installing collected packages: JPype1\n",
            "Successfully installed JPype1-1.3.0\n"
          ],
          "name": "stdout"
        }
      ]
    },
    {
      "cell_type": "code",
      "metadata": {
        "colab": {
          "base_uri": "https://localhost:8080/"
        },
        "id": "K_ukVUSEahoL",
        "outputId": "1ae8bcb6-5c11-48fa-a8e6-520e4c70a2bf"
      },
      "source": [
        "# 3. RHINO 설치\n",
        "!pip install rhinoMorph"
      ],
      "execution_count": null,
      "outputs": [
        {
          "output_type": "stream",
          "text": [
            "Collecting rhinoMorph\n",
            "  Downloading rhinoMorph-3.8.0.0-py3-none-any.whl (3.0 MB)\n",
            "\u001b[K     |████████████████████████████████| 3.0 MB 6.8 MB/s \n",
            "\u001b[?25hInstalling collected packages: rhinoMorph\n",
            "Successfully installed rhinoMorph-3.8.0.0\n"
          ],
          "name": "stdout"
        }
      ]
    },
    {
      "cell_type": "code",
      "metadata": {
        "colab": {
          "base_uri": "https://localhost:8080/"
        },
        "id": "NVKsuW2RaqgU",
        "outputId": "dd3109a5-47d3-4b39-c786-84aa7489c926"
      },
      "source": [
        "# 4. RHINO 시작\n",
        "\n",
        "import rhinoMorph\n",
        "rn = rhinoMorph.startRhino() # 사전을 메모리에 로딩. 처음 한만 필요. 형태소분석기 객체를 output으로 내보냄."
      ],
      "execution_count": null,
      "outputs": [
        {
          "output_type": "stream",
          "text": [
            "filepath:  /usr/local/lib/python3.7/dist-packages\n",
            "classpath:  /usr/local/lib/python3.7/dist-packages/rhinoMorph/lib/rhino.jar\n",
            "RHINO started!\n"
          ],
          "name": "stdout"
        }
      ]
    },
    {
      "cell_type": "code",
      "metadata": {
        "colab": {
          "base_uri": "https://localhost:8080/"
        },
        "id": "pdLXLKNGa7q7",
        "outputId": "5adcabed-6aae-4dae-feee-19cee1884c7c"
      },
      "source": [
        "# 5. 예문 분석 \n",
        "\n",
        "text = '한글테스트 글을 남겨주세요.'\n",
        "sample_data = rhinoMorph.onlyMorph_list(rn, text) # 결과물이 리스트로 나온다.\n",
        "print('sample data:', sample_data)"
      ],
      "execution_count": null,
      "outputs": [
        {
          "output_type": "stream",
          "text": [
            "sample data: ['한글', '테스트', '글', '을', '남기', '어', '주', '시', '어요', '.']\n"
          ],
          "name": "stdout"
        }
      ]
    }
  ]
}