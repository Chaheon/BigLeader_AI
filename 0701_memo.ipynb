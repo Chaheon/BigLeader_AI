{
 "cells": [
  {
   "cell_type": "markdown",
   "id": "public-assumption",
   "metadata": {},
   "source": [
    "## 파이썬 기초다루기\n",
    "### 데이터 시각화\n",
    "#### 0701 memo"
   ]
  },
  {
   "cell_type": "markdown",
   "id": "maritime-mirror",
   "metadata": {},
   "source": [
    "-----"
   ]
  }
 ],
 "metadata": {
  "kernelspec": {
   "display_name": "Python 3",
   "language": "python",
   "name": "python3"
  },
  "language_info": {
   "codemirror_mode": {
    "name": "ipython",
    "version": 3
   },
   "file_extension": ".py",
   "mimetype": "text/x-python",
   "name": "python",
   "nbconvert_exporter": "python",
   "pygments_lexer": "ipython3",
   "version": "3.8.8"
  }
 },
 "nbformat": 4,
 "nbformat_minor": 5
}
