{
  "nbformat": 4,
  "nbformat_minor": 0,
  "metadata": {
    "colab": {
      "name": "2. 형태소분석기.ipynb",
      "provenance": [],
      "collapsed_sections": [],
      "authorship_tag": "ABX9TyMcvHhJ9l7G+MPvw4D6h1WW",
      "include_colab_link": true
    },
    "kernelspec": {
      "name": "python3",
      "display_name": "Python 3"
    },
    "language_info": {
      "name": "python"
    }
  },
  "cells": [
    {
      "cell_type": "markdown",
      "metadata": {
        "id": "view-in-github",
        "colab_type": "text"
      },
      "source": [
        "<a href=\"https://colab.research.google.com/github/heoni00/BigLeader_AI/blob/main/2_%ED%98%95%ED%83%9C%EC%86%8C%EB%B6%84%EC%84%9D%EA%B8%B0.ipynb\" target=\"_parent\"><img src=\"https://colab.research.google.com/assets/colab-badge.svg\" alt=\"Open In Colab\"/></a>"
      ]
    },
    {
      "cell_type": "code",
      "metadata": {
        "colab": {
          "base_uri": "https://localhost:8080/"
        },
        "id": "XEhQrVwpdE7t",
        "outputId": "4c2183cb-fa0d-4a76-a103-43eaeae33ed8"
      },
      "source": [
        "# 2. JPype 설치 \n",
        "!pip install JPype1\n",
        "\n",
        "# 3. RHINO 설치\n",
        "!pip install rhinoMorph\n",
        "\n",
        "# 4. RHINO 시작\n",
        "\n",
        "import rhinoMorph\n",
        "rn = rhinoMorph.startRhino() # 사전을 메모리에 로딩. 처음 한만 필요. 형태소분석기 객체를 output으로 내보냄."
      ],
      "execution_count": null,
      "outputs": [
        {
          "output_type": "stream",
          "text": [
            "Collecting JPype1\n",
            "  Downloading JPype1-1.3.0-cp37-cp37m-manylinux_2_5_x86_64.manylinux1_x86_64.whl (448 kB)\n",
            "\u001b[?25l\r\u001b[K     |▊                               | 10 kB 23.5 MB/s eta 0:00:01\r\u001b[K     |█▌                              | 20 kB 27.2 MB/s eta 0:00:01\r\u001b[K     |██▏                             | 30 kB 23.0 MB/s eta 0:00:01\r\u001b[K     |███                             | 40 kB 17.5 MB/s eta 0:00:01\r\u001b[K     |███▋                            | 51 kB 7.9 MB/s eta 0:00:01\r\u001b[K     |████▍                           | 61 kB 9.1 MB/s eta 0:00:01\r\u001b[K     |█████                           | 71 kB 8.6 MB/s eta 0:00:01\r\u001b[K     |█████▉                          | 81 kB 9.4 MB/s eta 0:00:01\r\u001b[K     |██████▋                         | 92 kB 10.2 MB/s eta 0:00:01\r\u001b[K     |███████▎                        | 102 kB 8.3 MB/s eta 0:00:01\r\u001b[K     |████████                        | 112 kB 8.3 MB/s eta 0:00:01\r\u001b[K     |████████▊                       | 122 kB 8.3 MB/s eta 0:00:01\r\u001b[K     |█████████▌                      | 133 kB 8.3 MB/s eta 0:00:01\r\u001b[K     |██████████▏                     | 143 kB 8.3 MB/s eta 0:00:01\r\u001b[K     |███████████                     | 153 kB 8.3 MB/s eta 0:00:01\r\u001b[K     |███████████▊                    | 163 kB 8.3 MB/s eta 0:00:01\r\u001b[K     |████████████▍                   | 174 kB 8.3 MB/s eta 0:00:01\r\u001b[K     |█████████████▏                  | 184 kB 8.3 MB/s eta 0:00:01\r\u001b[K     |█████████████▉                  | 194 kB 8.3 MB/s eta 0:00:01\r\u001b[K     |██████████████▋                 | 204 kB 8.3 MB/s eta 0:00:01\r\u001b[K     |███████████████▎                | 215 kB 8.3 MB/s eta 0:00:01\r\u001b[K     |████████████████                | 225 kB 8.3 MB/s eta 0:00:01\r\u001b[K     |████████████████▉               | 235 kB 8.3 MB/s eta 0:00:01\r\u001b[K     |█████████████████▌              | 245 kB 8.3 MB/s eta 0:00:01\r\u001b[K     |██████████████████▎             | 256 kB 8.3 MB/s eta 0:00:01\r\u001b[K     |███████████████████             | 266 kB 8.3 MB/s eta 0:00:01\r\u001b[K     |███████████████████▊            | 276 kB 8.3 MB/s eta 0:00:01\r\u001b[K     |████████████████████▍           | 286 kB 8.3 MB/s eta 0:00:01\r\u001b[K     |█████████████████████▏          | 296 kB 8.3 MB/s eta 0:00:01\r\u001b[K     |██████████████████████          | 307 kB 8.3 MB/s eta 0:00:01\r\u001b[K     |██████████████████████▋         | 317 kB 8.3 MB/s eta 0:00:01\r\u001b[K     |███████████████████████▍        | 327 kB 8.3 MB/s eta 0:00:01\r\u001b[K     |████████████████████████        | 337 kB 8.3 MB/s eta 0:00:01\r\u001b[K     |████████████████████████▉       | 348 kB 8.3 MB/s eta 0:00:01\r\u001b[K     |█████████████████████████▌      | 358 kB 8.3 MB/s eta 0:00:01\r\u001b[K     |██████████████████████████▎     | 368 kB 8.3 MB/s eta 0:00:01\r\u001b[K     |███████████████████████████     | 378 kB 8.3 MB/s eta 0:00:01\r\u001b[K     |███████████████████████████▊    | 389 kB 8.3 MB/s eta 0:00:01\r\u001b[K     |████████████████████████████▌   | 399 kB 8.3 MB/s eta 0:00:01\r\u001b[K     |█████████████████████████████▏  | 409 kB 8.3 MB/s eta 0:00:01\r\u001b[K     |██████████████████████████████  | 419 kB 8.3 MB/s eta 0:00:01\r\u001b[K     |██████████████████████████████▋ | 430 kB 8.3 MB/s eta 0:00:01\r\u001b[K     |███████████████████████████████▍| 440 kB 8.3 MB/s eta 0:00:01\r\u001b[K     |████████████████████████████████| 448 kB 8.3 MB/s \n",
            "\u001b[?25hRequirement already satisfied: typing-extensions in /usr/local/lib/python3.7/dist-packages (from JPype1) (3.7.4.3)\n",
            "Installing collected packages: JPype1\n",
            "Successfully installed JPype1-1.3.0\n",
            "Collecting rhinoMorph\n",
            "  Downloading rhinoMorph-3.8.0.0-py3-none-any.whl (3.0 MB)\n",
            "\u001b[K     |████████████████████████████████| 3.0 MB 9.6 MB/s \n",
            "\u001b[?25hInstalling collected packages: rhinoMorph\n",
            "Successfully installed rhinoMorph-3.8.0.0\n",
            "filepath:  /usr/local/lib/python3.7/dist-packages\n",
            "classpath:  /usr/local/lib/python3.7/dist-packages/rhinoMorph/lib/rhino.jar\n",
            "RHINO started!\n"
          ],
          "name": "stdout"
        }
      ]
    },
    {
      "cell_type": "code",
      "metadata": {
        "colab": {
          "base_uri": "https://localhost:8080/"
        },
        "id": "0IEPhCfdb8tO",
        "outputId": "fb111474-643a-4cf4-e215-8968ed7d9438"
      },
      "source": [
        "text = '한글로 된 한글텍스트를 분석하는 것은 즐겁다.'\n",
        "\n",
        "# 사용 1 : 모든 형태소 보이기 \n",
        "text_analyzed = rhinoMorph.onlyMorph_list(rn, text)\n",
        "print('\\n1. 형태소 분석 결과: ', text_analyzed)"
      ],
      "execution_count": null,
      "outputs": [
        {
          "output_type": "stream",
          "text": [
            "\n",
            "1. 형태소 분석 결과:  ['한글', '로', '되', 'ㄴ', '한글', '텍스트', '를', '분석', '하', '는', '것', '은', '즐겁', '다', '.']\n"
          ],
          "name": "stdout"
        }
      ]
    },
    {
      "cell_type": "code",
      "metadata": {
        "colab": {
          "base_uri": "https://localhost:8080/"
        },
        "id": "Y97vPn_UrBXg",
        "outputId": "8b2e28ef-5de9-419c-ce25-5f5e8a08ac2a"
      },
      "source": [
        "# 사용 2 : 실질형태소만, 동사의 어말어미는 제외\n",
        "\n",
        "# http://kkma.snu.ac.kr/documents/?doc=postag (형태소 태그표)\n",
        "\n",
        "text_analyzed = rhinoMorph.onlyMorph_list(rn, text, pos=['NNG', 'NNP','NP','VV','VA','XR','IC','MM','MAG','MAJ'])\n",
        "print('\\n2. 형태소 분석 결과 :', text_analyzed)"
      ],
      "execution_count": null,
      "outputs": [
        {
          "output_type": "stream",
          "text": [
            "\n",
            "2. 형태소 분석 결과 : ['한글', '되', '한글', '텍스트', '분석', '즐겁']\n"
          ],
          "name": "stdout"
        }
      ]
    },
    {
      "cell_type": "code",
      "metadata": {
        "colab": {
          "base_uri": "https://localhost:8080/"
        },
        "id": "IpFJrCYmrCll",
        "outputId": "de9b7277-889f-48ad-e9d4-e8ff832aa49e"
      },
      "source": [
        "# 사용 3 : 실질형태소만, 동사의 어말어미 포함\n",
        "# 빈도분석을 할때는 분석을 완전하게 보이기 위해 어미를 꼭 보여준다. \n",
        "\n",
        "text_analyzed = rhinoMorph.onlyMorph_list(rn, text, pos=['NNG', 'NNP','NP','VV','VA','XR','IC','MM','MAG','MAJ'], eomi = True)\n",
        "print('\\n2. 형태소 분석 결과 :', text_analyzed)"
      ],
      "execution_count": null,
      "outputs": [
        {
          "output_type": "stream",
          "text": [
            "\n",
            "2. 형태소 분석 결과 : ['한글', '되다', '한글', '텍스트', '분석', '즐겁다']\n"
          ],
          "name": "stdout"
        }
      ]
    },
    {
      "cell_type": "code",
      "metadata": {
        "colab": {
          "base_uri": "https://localhost:8080/"
        },
        "id": "m8KoAgtCrC_l",
        "outputId": "8cfcea96-488b-4876-8489-0d08688f21e8"
      },
      "source": [
        "# 사용 4 : 전체형태소, 품사정보도 가져 오기 \n",
        "\n",
        "morphs, poses = rhinoMorph.wholeResult_list(rn, text)\n",
        "print('\\n4. 형태소 분석 결과:')\n",
        "print('morphs', morphs)\n",
        "print('poses', poses)"
      ],
      "execution_count": null,
      "outputs": [
        {
          "output_type": "stream",
          "text": [
            "\n",
            "4. 형태소 분석 결과:\n",
            "morphs ['한글', '로', '되', 'ㄴ', '한글', '텍스트', '를', '분석', '하', '는', '것', '은', '즐겁', '다', '.']\n",
            "poses ['NNG', 'JKB', 'VV', 'ETM', 'NNG', 'NNG', 'JKO', 'XR', 'XSV', 'ETM', 'NNB', 'JX', 'VA', 'EF', 'SF']\n"
          ],
          "name": "stdout"
        }
      ]
    },
    {
      "cell_type": "code",
      "metadata": {
        "colab": {
          "base_uri": "https://localhost:8080/"
        },
        "id": "exL-Y6YHrDOI",
        "outputId": "bdba17e7-e84b-4a18-f97a-12c255584b65"
      },
      "source": [
        "# 사용 5 : 원문의 어절 정보를 같이 가져 오기 \n",
        "\n",
        "text_analyzed = rhinoMorph.wholeResult_text(rn, text)\n",
        "print('\\n5. 형태소 분석 결과: \\n', text_analyzed)"
      ],
      "execution_count": null,
      "outputs": [
        {
          "output_type": "stream",
          "text": [
            "\n",
            "5. 형태소 분석 결과: \n",
            " 한글로\t한글/NNG + 로/JKB\r\n",
            "된\t되/VV + ㄴ/ETM\r\n",
            "한글텍스트를\t한글/NNG + 텍스트/NNG + 를/JKO\r\n",
            "분석하는\t분석/XR + 하/XSV + 는/ETM\r\n",
            "것은\t것/NNB + 은/JX\r\n",
            "즐겁다\t즐겁/VA + 다/EF\r\n",
            ".\t./SF\r\n",
            "\n"
          ],
          "name": "stdout"
        }
      ]
    }
  ]
}