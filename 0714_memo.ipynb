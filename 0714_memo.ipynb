{
 "cells": [
  {
   "cell_type": "code",
   "execution_count": 1,
   "id": "paperback-principle",
   "metadata": {},
   "outputs": [],
   "source": [
    "# 셀리니엄에서 코드를 잘짜고 화면까지 잘 들어가서 데이터가 보이는데 \n",
    "# 데이터가 안들어와! ,,, \n",
    "# 그럼 ,, iframe이 있을 수 있다! -> 해결방법이 따로 있음  .. 너무 고생하지마 "
   ]
  },
  {
   "cell_type": "code",
   "execution_count": null,
   "id": "future-johns",
   "metadata": {},
   "outputs": [],
   "source": []
  }
 ],
 "metadata": {
  "kernelspec": {
   "display_name": "Python 3",
   "language": "python",
   "name": "python3"
  },
  "language_info": {
   "codemirror_mode": {
    "name": "ipython",
    "version": 3
   },
   "file_extension": ".py",
   "mimetype": "text/x-python",
   "name": "python",
   "nbconvert_exporter": "python",
   "pygments_lexer": "ipython3",
   "version": "3.8.8"
  }
 },
 "nbformat": 4,
 "nbformat_minor": 5
}
