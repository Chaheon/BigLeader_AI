{
 "cells": [
  {
   "cell_type": "code",
   "execution_count": 20,
   "metadata": {},
   "outputs": [],
   "source": [
    "import pandas as pd"
   ]
  },
  {
   "cell_type": "code",
   "execution_count": 21,
   "metadata": {},
   "outputs": [
    {
     "name": "stdout",
     "output_type": "stream",
     "text": [
      "          예산\n",
      "창원시 A  1,000\n",
      "창원시 B  2,000\n",
      "창원시 C  3,000\n",
      "창원시 D  4,000\n",
      "\n",
      "\n",
      "  예산(만원)\n",
      "A   1100\n",
      "B   2200\n",
      "D   4400\n",
      "C   3300\n"
     ]
    }
   ],
   "source": [
    "q1 = pd.DataFrame([['1,000'],['2,000'],['3,000'],['4,000']],\n",
    "                     columns=['예산'],\n",
    "                     index=['창원시 A','창원시 B','창원시 C','창원시 D'])\n",
    "\n",
    "q2 = pd.DataFrame([['1100',],['2200'],['4400'],['3300']],\n",
    "                     columns=['예산(만원)'],\n",
    "                     index=['A','B','D','C'])\n",
    "\n",
    "print(q1)\n",
    "print('\\n')\n",
    "print(q2)"
   ]
  },
  {
   "cell_type": "markdown",
   "metadata": {},
   "source": [
    "`-` q1의 '예산'열의 자료형을 float로 바꾸어라!"
   ]
  },
  {
   "cell_type": "code",
   "execution_count": 22,
   "metadata": {},
   "outputs": [
    {
     "name": "stdout",
     "output_type": "stream",
     "text": [
      "<class 'pandas.core.frame.DataFrame'>\n",
      "Index: 4 entries, 창원시 A to 창원시 D\n",
      "Data columns (total 1 columns):\n",
      " #   Column  Non-Null Count  Dtype \n",
      "---  ------  --------------  ----- \n",
      " 0   예산      4 non-null      object\n",
      "dtypes: object(1)\n",
      "memory usage: 64.0+ bytes\n"
     ]
    }
   ],
   "source": [
    "q1.info()  "
   ]
  },
  {
   "cell_type": "markdown",
   "metadata": {},
   "source": [
    "`-` 해답"
   ]
  },
  {
   "cell_type": "code",
   "execution_count": 23,
   "metadata": {
    "tags": []
   },
   "outputs": [
    {
     "name": "stdout",
     "output_type": "stream",
     "text": [
      "           예산\n",
      "창원시 A  1000.0\n",
      "창원시 B  2000.0\n",
      "창원시 C  3000.0\n",
      "창원시 D  4000.0\n"
     ]
    }
   ],
   "source": [
    "int_y = []\n",
    "for i in range(len(q1)):\n",
    "    int_y.append(int(q1.예산.iloc[i][0])*1000)\n",
    "\n",
    "int_y = list(map(float, int_y))\n",
    "q1.예산 = int_y\n",
    "print(q1)"
   ]
  },
  {
   "cell_type": "code",
   "execution_count": 24,
   "metadata": {},
   "outputs": [
    {
     "name": "stdout",
     "output_type": "stream",
     "text": [
      "<class 'pandas.core.frame.DataFrame'>\n",
      "Index: 4 entries, 창원시 A to 창원시 D\n",
      "Data columns (total 1 columns):\n",
      " #   Column  Non-Null Count  Dtype  \n",
      "---  ------  --------------  -----  \n",
      " 0   예산      4 non-null      float64\n",
      "dtypes: float64(1)\n",
      "memory usage: 64.0+ bytes\n"
     ]
    }
   ],
   "source": [
    "q1.info()"
   ]
  },
  {
   "cell_type": "markdown",
   "metadata": {},
   "source": [
    "#### `문제` 이 표를 만들어라\n",
    "    \n",
    " |index | 예산 | 예산(만원)|\n",
    " | ------ | ------ |-------|\n",
    " | A |\t1000\t|1100|\n",
    " | B |\t2000\t|2200|\n",
    " | C |\t3000\t|3300|\n",
    " | D |\t4000\t|4400|"
   ]
  },
  {
   "cell_type": "code",
   "execution_count": 25,
   "metadata": {},
   "outputs": [
    {
     "name": "stdout",
     "output_type": "stream",
     "text": [
      "           예산\n",
      "창원시 A  1000.0\n",
      "창원시 B  2000.0\n",
      "창원시 C  3000.0\n",
      "창원시 D  4000.0 \n",
      "   예산(만원)\n",
      "A   1100\n",
      "B   2200\n",
      "D   4400\n",
      "C   3300\n"
     ]
    }
   ],
   "source": [
    "print(q1, '\\n', q2)"
   ]
  },
  {
   "cell_type": "code",
   "execution_count": 36,
   "metadata": {},
   "outputs": [
    {
     "data": {
      "text/html": [
       "<div>\n",
       "<style scoped>\n",
       "    .dataframe tbody tr th:only-of-type {\n",
       "        vertical-align: middle;\n",
       "    }\n",
       "\n",
       "    .dataframe tbody tr th {\n",
       "        vertical-align: top;\n",
       "    }\n",
       "\n",
       "    .dataframe thead th {\n",
       "        text-align: right;\n",
       "    }\n",
       "</style>\n",
       "<table border=\"1\" class=\"dataframe\">\n",
       "  <thead>\n",
       "    <tr style=\"text-align: right;\">\n",
       "      <th></th>\n",
       "      <th>예산</th>\n",
       "      <th>예산(만원)</th>\n",
       "    </tr>\n",
       "  </thead>\n",
       "  <tbody>\n",
       "    <tr>\n",
       "      <th>A</th>\n",
       "      <td>1000.0</td>\n",
       "      <td>1100</td>\n",
       "    </tr>\n",
       "    <tr>\n",
       "      <th>B</th>\n",
       "      <td>2000.0</td>\n",
       "      <td>2200</td>\n",
       "    </tr>\n",
       "    <tr>\n",
       "      <th>C</th>\n",
       "      <td>3000.0</td>\n",
       "      <td>3300</td>\n",
       "    </tr>\n",
       "    <tr>\n",
       "      <th>D</th>\n",
       "      <td>4000.0</td>\n",
       "      <td>4400</td>\n",
       "    </tr>\n",
       "  </tbody>\n",
       "</table>\n",
       "</div>"
      ],
      "text/plain": [
       "       예산 예산(만원)\n",
       "A  1000.0   1100\n",
       "B  2000.0   2200\n",
       "C  3000.0   3300\n",
       "D  4000.0   4400"
      ]
     },
     "execution_count": 36,
     "metadata": {},
     "output_type": "execute_result"
    }
   ],
   "source": [
    "a = ['A','B','C','D']\n",
    "q1.index = a\n",
    "q2 = q2.sort_values(by=['예산(만원)'], axis=0)\n",
    "\n",
    "result = pd.concat([q1,q2], axis=1)\n",
    "result"
   ]
  }
 ],
 "metadata": {
  "kernelspec": {
   "display_name": "Python 3",
   "language": "python",
   "name": "python3"
  },
  "language_info": {
   "codemirror_mode": {
    "name": "ipython",
    "version": 3
   },
   "file_extension": ".py",
   "mimetype": "text/x-python",
   "name": "python",
   "nbconvert_exporter": "python",
   "pygments_lexer": "ipython3",
   "version": "3.8.8"
  }
 },
 "nbformat": 4,
 "nbformat_minor": 4
}
