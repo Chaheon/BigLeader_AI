{
 "cells": [
  {
   "cell_type": "markdown",
   "id": "neither-product",
   "metadata": {},
   "source": [
    "## 크롤링 기초다루기 \n",
    "### 웹 크롤링이란?\n",
    "#### 0712 memo\n"
   ]
  },
  {
   "cell_type": "markdown",
   "id": "dutch-calvin",
   "metadata": {},
   "source": [
    "------------"
   ]
  },
  {
   "cell_type": "code",
   "execution_count": 1,
   "id": "engaging-missouri",
   "metadata": {},
   "outputs": [],
   "source": [
    "#데이터가 어떤 의미를 갖고 있는가?? 숨은 인사이트를 찾아내야함"
   ]
  },
  {
   "cell_type": "markdown",
   "id": "caring-arabic",
   "metadata": {},
   "source": [
    "### 데이터의 종류\n",
    "\n",
    "- 정형 데이터 - 숫자, 표로 정리할 수 있는 데이터 \n",
    "- 비 정형 데이터 - 문자, 표 형태가 아닌 데이터 \n",
    "\n",
    "결국 중요한건 ,,, 데이터를 수집할 수 있는 능력이 필요하다!  \n",
    "데이터가 없으면 ,,, 분석 자체를 못하니까 ,, 호호\n"
   ]
  },
  {
   "cell_type": "code",
   "execution_count": null,
   "id": "middle-closer",
   "metadata": {},
   "outputs": [],
   "source": []
  }
 ],
 "metadata": {
  "kernelspec": {
   "display_name": "Python 3",
   "language": "python",
   "name": "python3"
  },
  "language_info": {
   "codemirror_mode": {
    "name": "ipython",
    "version": 3
   },
   "file_extension": ".py",
   "mimetype": "text/x-python",
   "name": "python",
   "nbconvert_exporter": "python",
   "pygments_lexer": "ipython3",
   "version": "3.8.8"
  }
 },
 "nbformat": 4,
 "nbformat_minor": 5
}
