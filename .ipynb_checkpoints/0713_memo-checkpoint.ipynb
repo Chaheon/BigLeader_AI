{
 "cells": [
  {
   "cell_type": "code",
   "execution_count": null,
   "id": "experimental-hypothetical",
   "metadata": {},
   "outputs": [],
   "source": [
    "# Riss 카테고리를 보여준다.\n",
    "# \"국내학술논문\" 카테고리를 선택한다\n",
    "# \"수잡할 장르를 2번으로 입력한다\"\n",
    "# 저장할 파일의 이름을 입력 받은 후 \n",
    "# 국내 학술 논문 카테고리의 다얗안 정보들을 수집\n",
    "# csv, xls 형식으로 저장~"
   ]
  },
  {
   "cell_type": "code",
   "execution_count": null,
   "id": "resident-bermuda",
   "metadata": {},
   "outputs": [
    {
     "name": "stdout",
     "output_type": "stream",
     "text": [
      "====================================================================================================\n",
      " 이 크롤러는 RISS 사이트의 논문 및 학술자료 수집용 웹크롤러입니다.\n",
      "====================================================================================================\n"
     ]
    },
    {
     "name": "stdin",
     "output_type": "stream",
     "text": [
      "1.수집할 자료의 키워드는 무엇입니까?(여러개일 경우 , 로 구분하여 입력):  ㅣㅏ\n"
     ]
    },
    {
     "name": "stdout",
     "output_type": "stream",
     "text": [
      "\n",
      "\n"
     ]
    }
   ],
   "source": [
    "# 시작!!\n",
    "\n",
    "#Step 1. 필요한 모듈을 로딩합니다\n",
    "from selenium import webdriver\n",
    "import time \n",
    "\n",
    "#Step 2. 사용자에게 검색 관련 정보들을 입력 받습니다.\n",
    "print(\"=\" *100)\n",
    "print(\" 이 크롤러는 RISS 사이트의 논문 및 학술자료 수집용 웹크롤러입니다.\")\n",
    "print(\"=\" *100)\n",
    "\n",
    "query_txt = input('1.수집할 자료의 키워드는 무엇입니까?(여러개일 경우 , 로 구분하여 입력): ')\n"
   ]
  },
  {
   "cell_type": "code",
   "execution_count": null,
   "id": "hungarian-findings",
   "metadata": {},
   "outputs": [],
   "source": [
    "\n",
    "# 크롬 드라이버 설정 및 웹 페이지 열기\n",
    "chrome_path = \"c:/data/chromedriver.exe\"\n",
    "driver = webdriver.Chrome(chrome_path)\n",
    "\n",
    "url = 'http://www.riss.kr/'\n",
    "driver.get(url)\n",
    "time.sleep(2)"
   ]
  },
  {
   "cell_type": "code",
   "execution_count": null,
   "id": "biblical-period",
   "metadata": {},
   "outputs": [],
   "source": [
    "print('\\n')\n",
    "print('2. 위 키워드로 아래의 장르 중 어떤 장르의 정보를 수집할까요?')\n",
    "\n",
    "genre = input( : ')"
   ]
  }
 ],
 "metadata": {
  "kernelspec": {
   "display_name": "Python 3",
   "language": "python",
   "name": "python3"
  },
  "language_info": {
   "codemirror_mode": {
    "name": "ipython",
    "version": 3
   },
   "file_extension": ".py",
   "mimetype": "text/x-python",
   "name": "python",
   "nbconvert_exporter": "python",
   "pygments_lexer": "ipython3",
   "version": "3.8.8"
  }
 },
 "nbformat": 4,
 "nbformat_minor": 5
}
